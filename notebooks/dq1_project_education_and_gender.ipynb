{
 "cells": [
  {
   "cell_type": "code",
   "execution_count": 2,
   "metadata": {},
   "outputs": [],
   "source": [
    "import pandas as pd\n",
    "\n",
    "import numpy as np\n",
    "\n",
    "import matplotlib.pyplot as plt\n",
    "\n",
    "import seaborn as sns\n",
    "\n",
    "import scipy.stats as stats\n",
    "\n",
    "import statsmodels.api as sm\n",
    "\n",
    "%matplotlib inline"
   ]
  },
  {
   "cell_type": "markdown",
   "metadata": {},
   "source": [
    "\n",
    "\n",
    "\n",
    "\n",
    "# Percent Female Students in Secondary Education (Cleaning Data)"
   ]
  },
  {
   "cell_type": "code",
   "execution_count": 3,
   "metadata": {},
   "outputs": [],
   "source": [
    "#reading in data on female students in school\n",
    "percent_female_in_secondary_school = pd.read_csv(\"../data/%_female_in_secondary_education.csv\")"
   ]
  },
  {
   "cell_type": "code",
   "execution_count": 4,
   "metadata": {},
   "outputs": [],
   "source": [
    "#dropping columns not used and renaming remaining columns\n",
    "percent_female_in_secondary_school = percent_female_in_secondary_school.drop(['Sex','Age group','Units of measurement'], axis = 1)\n",
    "percent_female_in_secondary_school.columns = ['Country', 'Year','%_female_students_in_secondary']"
   ]
  },
  {
   "cell_type": "markdown",
   "metadata": {},
   "source": [
    "\n",
    "\n",
    "# Male/Female Number of Seats in Parliament/ House/ Senate (Cleaning Data)"
   ]
  },
  {
   "cell_type": "code",
   "execution_count": 5,
   "metadata": {},
   "outputs": [],
   "source": [
    "#reading in data on female members of countries parliament\n",
    "male_female_parliamentary_seats = pd.read_csv(\"../data/parliamentary_seats_in_upper_house_senate.csv\")"
   ]
  },
  {
   "cell_type": "code",
   "execution_count": 6,
   "metadata": {},
   "outputs": [],
   "source": [
    "#dropping columns not used\n",
    "#Checked and nothing is important about footnotes\n",
    "male_female_parliamentary_seats = male_female_parliamentary_seats.drop(['Source','Unit','Value Footnotes'], axis = 1)"
   ]
  },
  {
   "cell_type": "code",
   "execution_count": 7,
   "metadata": {},
   "outputs": [],
   "source": [
    "#renaming remaining columns\n",
    "male_female_parliamentary_seats.columns = ['Country', 'Sex', 'Year', 'Number_of_Seats_Held']"
   ]
  },
  {
   "cell_type": "code",
   "execution_count": 8,
   "metadata": {},
   "outputs": [],
   "source": [
    "#making year and number_seats_held into int\n",
    "male_female_parliamentary_seats = male_female_parliamentary_seats.dropna()\n",
    "male_female_parliamentary_seats['Year'] = male_female_parliamentary_seats['Year'].astype(int)\n",
    "male_female_parliamentary_seats['Number_of_Seats_Held'] = male_female_parliamentary_seats['Number_of_Seats_Held'].astype(int)"
   ]
  },
  {
   "cell_type": "code",
   "execution_count": 9,
   "metadata": {},
   "outputs": [],
   "source": [
    "#Pivoting the Table\n",
    "male_female_parliamentary_seats_pivot = male_female_parliamentary_seats.pivot_table(index = ['Country','Year'], columns = 'Sex', values = 'Number_of_Seats_Held').reset_index().rename_axis(None, axis = 1)"
   ]
  },
  {
   "cell_type": "code",
   "execution_count": 10,
   "metadata": {},
   "outputs": [],
   "source": [
    "#Renaming columns for the pivot\n",
    "male_female_parliamentary_seats_pivot.columns = ['Country', 'Year', 'Number_of_Seats_Held_Female','Number_of_Seats_Held_Male']"
   ]
  },
  {
   "cell_type": "markdown",
   "metadata": {},
   "source": [
    "\n",
    "    \n",
    "  \n",
    "# Percent of Women in Country's Labor Force (Cleaning Data)"
   ]
  },
  {
   "cell_type": "code",
   "execution_count": 11,
   "metadata": {},
   "outputs": [],
   "source": [
    "#reading in data on female % of workforce\n",
    "percent_women_in_labour_force = pd.read_csv(\"../data/womens_%_labour_force.csv\")"
   ]
  },
  {
   "cell_type": "code",
   "execution_count": 12,
   "metadata": {},
   "outputs": [],
   "source": [
    "#dropping columns not used and renaming remaining columns\n",
    "#Checked and nothing is important about footnotes\n",
    "percent_women_in_labour_force = percent_women_in_labour_force.drop(['Subgroup','Unit','Value Footnotes'], axis = 1)"
   ]
  },
  {
   "cell_type": "code",
   "execution_count": 13,
   "metadata": {},
   "outputs": [],
   "source": [
    "#renaming columns\n",
    "percent_women_in_labour_force.columns = ['Country','Year','%_women_in_labor_force']"
   ]
  },
  {
   "cell_type": "code",
   "execution_count": 14,
   "metadata": {},
   "outputs": [],
   "source": [
    "#changing year to int\n",
    "percent_women_in_labour_force = percent_women_in_labour_force.dropna()\n",
    "percent_women_in_labour_force['Year'] = percent_women_in_labour_force['Year'].astype(int)"
   ]
  },
  {
   "cell_type": "markdown",
   "metadata": {},
   "source": [
    " \n",
    "# Merging the 3 data sets with inner join "
   ]
  },
  {
   "cell_type": "code",
   "execution_count": 15,
   "metadata": {},
   "outputs": [],
   "source": [
    "#merging female in education with parliament data\n",
    "education_and_parliament_df = percent_female_in_secondary_school.merge(male_female_parliamentary_seats_pivot, on = ['Country','Year'], how = 'inner')"
   ]
  },
  {
   "cell_type": "code",
   "execution_count": 16,
   "metadata": {},
   "outputs": [],
   "source": [
    "#merging education_and_parliament with labor force data\n",
    "education_and_gender = education_and_parliament_df.merge(percent_women_in_labour_force, on = ['Country','Year'], how = 'inner')"
   ]
  },
  {
   "cell_type": "code",
   "execution_count": 17,
   "metadata": {},
   "outputs": [],
   "source": [
    "#Creating a cloumn for the percent female in parliament\n",
    "education_and_gender['%_female_in_parliament'] = (education_and_gender['Number_of_Seats_Held_Female'] / (education_and_gender['Number_of_Seats_Held_Female'] + education_and_gender['Number_of_Seats_Held_Male']))*100"
   ]
  },
  {
   "cell_type": "markdown",
   "metadata": {},
   "source": [
    "  \n",
    "# Exploring Data"
   ]
  },
  {
   "cell_type": "code",
   "execution_count": 18,
   "metadata": {},
   "outputs": [
    {
     "data": {
      "text/html": [
       "<div>\n",
       "<style scoped>\n",
       "    .dataframe tbody tr th:only-of-type {\n",
       "        vertical-align: middle;\n",
       "    }\n",
       "\n",
       "    .dataframe tbody tr th {\n",
       "        vertical-align: top;\n",
       "    }\n",
       "\n",
       "    .dataframe thead th {\n",
       "        text-align: right;\n",
       "    }\n",
       "</style>\n",
       "<table border=\"1\" class=\"dataframe\">\n",
       "  <thead>\n",
       "    <tr style=\"text-align: right;\">\n",
       "      <th></th>\n",
       "      <th>Year</th>\n",
       "      <th>%_female_students_in_secondary</th>\n",
       "      <th>Number_of_Seats_Held_Female</th>\n",
       "      <th>Number_of_Seats_Held_Male</th>\n",
       "      <th>%_women_in_labor_force</th>\n",
       "      <th>%_female_in_parliament</th>\n",
       "    </tr>\n",
       "  </thead>\n",
       "  <tbody>\n",
       "    <tr>\n",
       "      <th>count</th>\n",
       "      <td>430.000000</td>\n",
       "      <td>430.000000</td>\n",
       "      <td>430.000000</td>\n",
       "      <td>430.000000</td>\n",
       "      <td>430.000000</td>\n",
       "      <td>430.000000</td>\n",
       "    </tr>\n",
       "    <tr>\n",
       "      <th>mean</th>\n",
       "      <td>2002.081395</td>\n",
       "      <td>48.746737</td>\n",
       "      <td>12.472093</td>\n",
       "      <td>81.246512</td>\n",
       "      <td>40.725116</td>\n",
       "      <td>15.975574</td>\n",
       "    </tr>\n",
       "    <tr>\n",
       "      <th>std</th>\n",
       "      <td>2.750779</td>\n",
       "      <td>3.986931</td>\n",
       "      <td>11.604714</td>\n",
       "      <td>74.941965</td>\n",
       "      <td>6.696112</td>\n",
       "      <td>10.278572</td>\n",
       "    </tr>\n",
       "    <tr>\n",
       "      <th>min</th>\n",
       "      <td>1997.000000</td>\n",
       "      <td>25.402520</td>\n",
       "      <td>0.000000</td>\n",
       "      <td>5.000000</td>\n",
       "      <td>16.600000</td>\n",
       "      <td>0.000000</td>\n",
       "    </tr>\n",
       "    <tr>\n",
       "      <th>25%</th>\n",
       "      <td>2000.000000</td>\n",
       "      <td>48.019588</td>\n",
       "      <td>4.000000</td>\n",
       "      <td>34.000000</td>\n",
       "      <td>38.350000</td>\n",
       "      <td>7.975460</td>\n",
       "    </tr>\n",
       "    <tr>\n",
       "      <th>50%</th>\n",
       "      <td>2002.000000</td>\n",
       "      <td>49.347365</td>\n",
       "      <td>9.000000</td>\n",
       "      <td>52.000000</td>\n",
       "      <td>42.900000</td>\n",
       "      <td>13.363095</td>\n",
       "    </tr>\n",
       "    <tr>\n",
       "      <th>75%</th>\n",
       "      <td>2005.000000</td>\n",
       "      <td>50.788713</td>\n",
       "      <td>18.000000</td>\n",
       "      <td>96.000000</td>\n",
       "      <td>44.900000</td>\n",
       "      <td>23.166023</td>\n",
       "    </tr>\n",
       "    <tr>\n",
       "      <th>max</th>\n",
       "      <td>2006.000000</td>\n",
       "      <td>58.682280</td>\n",
       "      <td>63.000000</td>\n",
       "      <td>303.000000</td>\n",
       "      <td>52.400000</td>\n",
       "      <td>59.420290</td>\n",
       "    </tr>\n",
       "  </tbody>\n",
       "</table>\n",
       "</div>"
      ],
      "text/plain": [
       "              Year  %_female_students_in_secondary  \\\n",
       "count   430.000000                      430.000000   \n",
       "mean   2002.081395                       48.746737   \n",
       "std       2.750779                        3.986931   \n",
       "min    1997.000000                       25.402520   \n",
       "25%    2000.000000                       48.019588   \n",
       "50%    2002.000000                       49.347365   \n",
       "75%    2005.000000                       50.788713   \n",
       "max    2006.000000                       58.682280   \n",
       "\n",
       "       Number_of_Seats_Held_Female  Number_of_Seats_Held_Male  \\\n",
       "count                   430.000000                 430.000000   \n",
       "mean                     12.472093                  81.246512   \n",
       "std                      11.604714                  74.941965   \n",
       "min                       0.000000                   5.000000   \n",
       "25%                       4.000000                  34.000000   \n",
       "50%                       9.000000                  52.000000   \n",
       "75%                      18.000000                  96.000000   \n",
       "max                      63.000000                 303.000000   \n",
       "\n",
       "       %_women_in_labor_force  %_female_in_parliament  \n",
       "count              430.000000              430.000000  \n",
       "mean                40.725116               15.975574  \n",
       "std                  6.696112               10.278572  \n",
       "min                 16.600000                0.000000  \n",
       "25%                 38.350000                7.975460  \n",
       "50%                 42.900000               13.363095  \n",
       "75%                 44.900000               23.166023  \n",
       "max                 52.400000               59.420290  "
      ]
     },
     "execution_count": 18,
     "metadata": {},
     "output_type": "execute_result"
    }
   ],
   "source": [
    "education_and_gender.describe()"
   ]
  },
  {
   "cell_type": "code",
   "execution_count": 132,
   "metadata": {},
   "outputs": [
    {
     "data": {
      "text/html": [
       "<div>\n",
       "<style scoped>\n",
       "    .dataframe tbody tr th:only-of-type {\n",
       "        vertical-align: middle;\n",
       "    }\n",
       "\n",
       "    .dataframe tbody tr th {\n",
       "        vertical-align: top;\n",
       "    }\n",
       "\n",
       "    .dataframe thead th {\n",
       "        text-align: right;\n",
       "    }\n",
       "</style>\n",
       "<table border=\"1\" class=\"dataframe\">\n",
       "  <thead>\n",
       "    <tr style=\"text-align: right;\">\n",
       "      <th></th>\n",
       "      <th>Country</th>\n",
       "      <th>Year</th>\n",
       "      <th>%_female_students_in_secondary</th>\n",
       "      <th>Number_of_Seats_Held_Female</th>\n",
       "      <th>Number_of_Seats_Held_Male</th>\n",
       "      <th>%_women_in_labor_force</th>\n",
       "      <th>%_female_in_parliament</th>\n",
       "    </tr>\n",
       "  </thead>\n",
       "  <tbody>\n",
       "    <tr>\n",
       "      <th>0</th>\n",
       "      <td>Afghanistan</td>\n",
       "      <td>2006</td>\n",
       "      <td>25.40252</td>\n",
       "      <td>23</td>\n",
       "      <td>79</td>\n",
       "      <td>29.4</td>\n",
       "      <td>22.549020</td>\n",
       "    </tr>\n",
       "    <tr>\n",
       "      <th>91</th>\n",
       "      <td>Cambodia</td>\n",
       "      <td>2000</td>\n",
       "      <td>34.89699</td>\n",
       "      <td>8</td>\n",
       "      <td>53</td>\n",
       "      <td>51.4</td>\n",
       "      <td>13.114754</td>\n",
       "    </tr>\n",
       "    <tr>\n",
       "      <th>253</th>\n",
       "      <td>Mauritania</td>\n",
       "      <td>1997</td>\n",
       "      <td>34.51685</td>\n",
       "      <td>0</td>\n",
       "      <td>56</td>\n",
       "      <td>40.1</td>\n",
       "      <td>0.000000</td>\n",
       "    </tr>\n",
       "    <tr>\n",
       "      <th>429</th>\n",
       "      <td>Yemen</td>\n",
       "      <td>2005</td>\n",
       "      <td>32.07058</td>\n",
       "      <td>3</td>\n",
       "      <td>108</td>\n",
       "      <td>28.0</td>\n",
       "      <td>2.702703</td>\n",
       "    </tr>\n",
       "  </tbody>\n",
       "</table>\n",
       "</div>"
      ],
      "text/plain": [
       "         Country  Year  %_female_students_in_secondary  \\\n",
       "0    Afghanistan  2006                        25.40252   \n",
       "91      Cambodia  2000                        34.89699   \n",
       "253   Mauritania  1997                        34.51685   \n",
       "429        Yemen  2005                        32.07058   \n",
       "\n",
       "     Number_of_Seats_Held_Female  Number_of_Seats_Held_Male  \\\n",
       "0                             23                         79   \n",
       "91                             8                         53   \n",
       "253                            0                         56   \n",
       "429                            3                        108   \n",
       "\n",
       "     %_women_in_labor_force  %_female_in_parliament  \n",
       "0                      29.4               22.549020  \n",
       "91                     51.4               13.114754  \n",
       "253                    40.1                0.000000  \n",
       "429                    28.0                2.702703  "
      ]
     },
     "execution_count": 132,
     "metadata": {},
     "output_type": "execute_result"
    }
   ],
   "source": [
    "education_and_gender[education_and_gender['%_female_students_in_secondary']<35]"
   ]
  },
  {
   "cell_type": "code",
   "execution_count": 133,
   "metadata": {},
   "outputs": [
    {
     "data": {
      "text/html": [
       "<div>\n",
       "<style scoped>\n",
       "    .dataframe tbody tr th:only-of-type {\n",
       "        vertical-align: middle;\n",
       "    }\n",
       "\n",
       "    .dataframe tbody tr th {\n",
       "        vertical-align: top;\n",
       "    }\n",
       "\n",
       "    .dataframe thead th {\n",
       "        text-align: right;\n",
       "    }\n",
       "</style>\n",
       "<table border=\"1\" class=\"dataframe\">\n",
       "  <thead>\n",
       "    <tr style=\"text-align: right;\">\n",
       "      <th></th>\n",
       "      <th>Country</th>\n",
       "      <th>Year</th>\n",
       "      <th>%_female_students_in_secondary</th>\n",
       "      <th>Number_of_Seats_Held_Female</th>\n",
       "      <th>Number_of_Seats_Held_Male</th>\n",
       "      <th>%_women_in_labor_force</th>\n",
       "      <th>%_female_in_parliament</th>\n",
       "    </tr>\n",
       "  </thead>\n",
       "  <tbody>\n",
       "    <tr>\n",
       "      <th>162</th>\n",
       "      <td>Germany</td>\n",
       "      <td>2000</td>\n",
       "      <td>48.35321</td>\n",
       "      <td>41</td>\n",
       "      <td>28</td>\n",
       "      <td>43.7</td>\n",
       "      <td>59.42029</td>\n",
       "    </tr>\n",
       "  </tbody>\n",
       "</table>\n",
       "</div>"
      ],
      "text/plain": [
       "     Country  Year  %_female_students_in_secondary  \\\n",
       "162  Germany  2000                        48.35321   \n",
       "\n",
       "     Number_of_Seats_Held_Female  Number_of_Seats_Held_Male  \\\n",
       "162                           41                         28   \n",
       "\n",
       "     %_women_in_labor_force  %_female_in_parliament  \n",
       "162                    43.7                59.42029  "
      ]
     },
     "execution_count": 133,
     "metadata": {},
     "output_type": "execute_result"
    }
   ],
   "source": [
    "education_and_gender[education_and_gender['%_female_in_parliament']>50]"
   ]
  },
  {
   "cell_type": "code",
   "execution_count": 135,
   "metadata": {},
   "outputs": [
    {
     "data": {
      "text/html": [
       "<div>\n",
       "<style scoped>\n",
       "    .dataframe tbody tr th:only-of-type {\n",
       "        vertical-align: middle;\n",
       "    }\n",
       "\n",
       "    .dataframe tbody tr th {\n",
       "        vertical-align: top;\n",
       "    }\n",
       "\n",
       "    .dataframe thead th {\n",
       "        text-align: right;\n",
       "    }\n",
       "</style>\n",
       "<table border=\"1\" class=\"dataframe\">\n",
       "  <thead>\n",
       "    <tr style=\"text-align: right;\">\n",
       "      <th></th>\n",
       "      <th>Country</th>\n",
       "      <th>Year</th>\n",
       "      <th>%_female_students_in_secondary</th>\n",
       "    </tr>\n",
       "  </thead>\n",
       "  <tbody>\n",
       "  </tbody>\n",
       "</table>\n",
       "</div>"
      ],
      "text/plain": [
       "Empty DataFrame\n",
       "Columns: [Country, Year, %_female_students_in_secondary]\n",
       "Index: []"
      ]
     },
     "execution_count": 135,
     "metadata": {},
     "output_type": "execute_result"
    }
   ],
   "source": [
    "percent_female_in_secondary_school[percent_female_in_secondary_school['Country']=='Guinea Bissau']"
   ]
  },
  {
   "cell_type": "markdown",
   "metadata": {},
   "source": [
    "\n",
    "# Visualization"
   ]
  },
  {
   "cell_type": "code",
   "execution_count": 19,
   "metadata": {},
   "outputs": [],
   "source": [
    "Oman_secondary = percent_female_in_secondary_school[percent_female_in_secondary_school['Country']=='Oman']\n",
    "Nepal_secondary = percent_female_in_secondary_school[percent_female_in_secondary_school['Country']=='Nepal']\n",
    "Afghanistan_secondary = percent_female_in_secondary_school[percent_female_in_secondary_school['Country']=='Afghanistan']\n",
    "Lesotho_secondary = percent_female_in_secondary_school[percent_female_in_secondary_school['Country']=='Lesotho']\n",
    "Saint_Lucia_secondary = percent_female_in_secondary_school[percent_female_in_secondary_school['Country']=='Saint Lucia']\n",
    "Nicaragua_secondary = percent_female_in_secondary_school[percent_female_in_secondary_school['Country']=='Nicaragua']\n",
    "Peru_secondary = percent_female_in_secondary_school[percent_female_in_secondary_school['Country']=='Peru']"
   ]
  },
  {
   "cell_type": "code",
   "execution_count": 60,
   "metadata": {},
   "outputs": [
    {
     "data": {
      "image/png": "[encoded data removed]",
      "text/plain": [
       "<Figure size 864x576 with 1 Axes>"
      ]
     },
     "metadata": {
      "needs_background": "light"
     },
     "output_type": "display_data"
    }
   ],
   "source": [
    "#Creating a Line PLot for the countries with the lowest secondary education female rates\n",
    "plt.figure(figsize = (12,8))\n",
    "plt.plot(Oman_secondary['Year'],Oman_secondary['%_female_students_in_secondary'], label = 'Oman', linewidth = 2.8)\n",
    "plt.plot(Nepal_secondary['Year'],Nepal_secondary['%_female_students_in_secondary'], label = 'Nepal', linewidth = 2.8)\n",
    "plt.plot(Afghanistan_secondary['Year'],Afghanistan_secondary['%_female_students_in_secondary'], label = 'Afghanistan', linewidth = 2.8)\n",
    "plt.plot(Lesotho_secondary['Year'],Lesotho_secondary['%_female_students_in_secondary'], label = 'Lesotho', linewidth = 2.8)\n",
    "plt.plot(Saint_Lucia_secondary['Year'],Saint_Lucia_secondary['%_female_students_in_secondary'], label = 'Saint Lucia', linewidth = 2.8)\n",
    "plt.plot(Nicaragua_secondary['Year'],Nicaragua_secondary['%_female_students_in_secondary'], label = 'Nicaragua', linewidth = 2.8)\n",
    "plt.plot(Peru_secondary['Year'],Peru_secondary['%_female_students_in_secondary'], label = 'Peru', linewidth = 2.8)\n",
    "plt.xlabel('\\n Year',fontsize = 16, fontweight = 540)\n",
    "plt.ylabel('Percent Female in Secondary Education \\n',fontsize = 16, fontweight = 540)\n",
    "plt.xticks(fontsize = 14)\n",
    "plt.yticks(fontsize = 14)\n",
    "plt.title('Percent Female in Secondary Education', fontsize = 20, fontweight = 'bold')\n",
    "plt.legend(fontsize = 14)\n",
    "plt.savefig('Percent Female in Secondary Education Line Graph.png', dpi = 150);"
   ]
  },
  {
   "cell_type": "markdown",
   "metadata": {},
   "source": [
    "High rates in lesotho due to males moving to south africa\n",
    "https://borgenproject.org/female-education-in-lesotho/"
   ]
  },
  {
   "cell_type": "code",
   "execution_count": 61,
   "metadata": {},
   "outputs": [
    {
     "data": {
      "image/png": "[encoded data removed]",
      "text/plain": [
       "<Figure size 432x288 with 1 Axes>"
      ]
     },
     "metadata": {
      "needs_background": "light"
     },
     "output_type": "display_data"
    }
   ],
   "source": [
    "plt.scatter(x = education_and_gender['%_female_students_in_secondary'], y = education_and_gender['%_female_in_parliament'])\n",
    "plt.xlabel('% Female Students in Secondary')\n",
    "plt.ylabel('% Women in Parliament')\n",
    "plt.savefig('ed Parliament.png', dpi = 150);"
   ]
  },
  {
   "cell_type": "code",
   "execution_count": 73,
   "metadata": {},
   "outputs": [],
   "source": [
    "#reading in countinents df\n",
    "continents = pd.read_csv(\"../data/continents.csv\")"
   ]
  },
  {
   "cell_type": "code",
   "execution_count": 74,
   "metadata": {},
   "outputs": [],
   "source": [
    "education_and_gender = education_and_gender.merge(continents, how = 'inner', on = 'Country')"
   ]
  },
  {
   "cell_type": "code",
   "execution_count": 75,
   "metadata": {},
   "outputs": [
    {
     "data": {
      "text/plain": [
       "<matplotlib.axes._subplots.AxesSubplot at 0x23e87513688>"
      ]
     },
     "execution_count": 75,
     "metadata": {},
     "output_type": "execute_result"
    },
    {
     "data": {
      "image/png": "[encoded data removed]",
      "text/plain": [
       "<Figure size 576x432 with 1 Axes>"
      ]
     },
     "metadata": {
      "needs_background": "light"
     },
     "output_type": "display_data"
    }
   ],
   "source": [
    "plt.figure(figsize = (8,6))\n",
    "sns.boxplot(data = education_and_gender, x = '%_female_in_parliament', y = 'Continent')"
   ]
  },
  {
   "cell_type": "code",
   "execution_count": null,
   "metadata": {},
   "outputs": [],
   "source": []
  }
 ],
 "metadata": {
  "kernelspec": {
   "display_name": "Python 3",
   "language": "python",
   "name": "python3"
  },
  "language_info": {
   "codemirror_mode": {
    "name": "ipython",
    "version": 3
   },
   "file_extension": ".py",
   "mimetype": "text/x-python",
   "name": "python",
   "nbconvert_exporter": "python",
   "pygments_lexer": "ipython3",
   "version": "3.7.6"
  }
 },
 "nbformat": 4,
 "nbformat_minor": 4
}
